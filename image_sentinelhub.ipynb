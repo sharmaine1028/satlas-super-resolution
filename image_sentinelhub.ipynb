{
 "cells": [
  {
   "cell_type": "markdown",
   "metadata": {},
   "source": [
    "### Credentials"
   ]
  },
  {
   "cell_type": "code",
   "execution_count": 1,
   "metadata": {},
   "outputs": [
    {
     "name": "stderr",
     "output_type": "stream",
     "text": [
      "c:\\Users\\inn0l\\Anaconda3\\envs\\ssr\\lib\\site-packages\\tqdm\\auto.py:21: TqdmWarning: IProgress not found. Please update jupyter and ipywidgets. See https://ipywidgets.readthedocs.io/en/stable/user_install.html\n",
      "  from .autonotebook import tqdm as notebook_tqdm\n"
     ]
    }
   ],
   "source": [
    "from sentinelhub import SHConfig\n",
    "\n",
    "config = SHConfig()\n",
    "\n",
    "if not config.sh_client_id or not config.sh_client_secret:\n",
    "    print(\"Warning! To use Process API, please provide the credentials (OAuth client ID and client secret).\")"
   ]
  },
  {
   "cell_type": "markdown",
   "metadata": {},
   "source": [
    "### Imports"
   ]
  },
  {
   "cell_type": "code",
   "execution_count": 2,
   "metadata": {},
   "outputs": [],
   "source": [
    "import datetime\n",
    "import os\n",
    "\n",
    "from sentinelhub import (\n",
    "    CRS,\n",
    "    BBox,\n",
    "    DataCollection,\n",
    "    DownloadRequest,\n",
    "    MimeType,\n",
    "    MosaickingOrder,\n",
    "    SentinelHubDownloadClient,\n",
    "    SentinelHubRequest,\n",
    "    bbox_to_dimensions,\n",
    ")\n",
    "\n",
    "from PIL import Image"
   ]
  },
  {
   "cell_type": "markdown",
   "metadata": {},
   "source": [
    "### True Colour on specific date"
   ]
  },
  {
   "cell_type": "markdown",
   "metadata": {},
   "source": [
    "#### Set area of interests"
   ]
  },
  {
   "cell_type": "code",
   "execution_count": 4,
   "metadata": {},
   "outputs": [
    {
     "name": "stdout",
     "output_type": "stream",
     "text": [
      "Image shape at 60 m resolution: (631, 1047) pixels\n"
     ]
    }
   ],
   "source": [
    "betsiboka_coords_wgs84 = (46.16, -16.15, 46.51, -15.58)\n",
    "resolution = 60\n",
    "betsiboka_bbox = BBox(bbox=betsiboka_coords_wgs84, crs=CRS.WGS84)\n",
    "betsiboka_size = bbox_to_dimensions(betsiboka_bbox, resolution=resolution)\n",
    "\n",
    "print(f\"Image shape at {resolution} m resolution: {betsiboka_size} pixels\")"
   ]
  },
  {
   "cell_type": "code",
   "execution_count": 5,
   "metadata": {},
   "outputs": [],
   "source": [
    "evalscript_true_color = \"\"\"\n",
    "    //VERSION=3\n",
    "\n",
    "    function setup() {\n",
    "        return {\n",
    "            input: [{\n",
    "                bands: [\"B02\", \"B03\", \"B04\"]\n",
    "            }],\n",
    "            output: {\n",
    "                bands: 3\n",
    "            }\n",
    "        };\n",
    "    }\n",
    "\n",
    "    function evaluatePixel(sample) {\n",
    "        return [sample.B04, sample.B03, sample.B02];\n",
    "    }\n",
    "\"\"\"\n",
    "\n",
    "request_true_color = SentinelHubRequest(\n",
    "    data_folder='sentinel2',\n",
    "    evalscript=evalscript_true_color,\n",
    "    input_data=[\n",
    "        SentinelHubRequest.input_data(\n",
    "            data_collection=DataCollection.SENTINEL2_L1C,\n",
    "            time_interval=(\"2020-06-12\", \"2020-06-13\"),\n",
    "        )\n",
    "    ],\n",
    "    responses=[SentinelHubRequest.output_response(\"default\", MimeType.PNG)],\n",
    "    bbox=betsiboka_bbox,\n",
    "    size=betsiboka_size,\n",
    "    config=config,\n",
    ")"
   ]
  },
  {
   "cell_type": "code",
   "execution_count": 6,
   "metadata": {},
   "outputs": [],
   "source": [
    "true_color_imgs = request_true_color.get_data(save_data=True)"
   ]
  },
  {
   "cell_type": "code",
   "execution_count": 7,
   "metadata": {},
   "outputs": [
    {
     "name": "stdout",
     "output_type": "stream",
     "text": [
      "Returned data is of type = <class 'list'> and length 1.\n",
      "Single element in the list is of type <class 'numpy.ndarray'> and has shape (1047, 631, 3)\n"
     ]
    }
   ],
   "source": [
    "print(f\"Returned data is of type = {type(true_color_imgs)} and length {len(true_color_imgs)}.\")\n",
    "print(f\"Single element in the list is of type {type(true_color_imgs[-1])} and has shape {true_color_imgs[-1].shape}\")"
   ]
  },
  {
   "cell_type": "code",
   "execution_count": 8,
   "metadata": {},
   "outputs": [],
   "source": [
    "from PIL import Image\n",
    "img = Image.fromarray(true_color_imgs[0], 'RGB')\n",
    "img.show()"
   ]
  },
  {
   "cell_type": "markdown",
   "metadata": {},
   "source": [
    "##### Alternative method"
   ]
  },
  {
   "cell_type": "code",
   "execution_count": 9,
   "metadata": {},
   "outputs": [],
   "source": [
    "bearer_token = 'eyJhbGciOiJSUzI1NiIsInR5cCIgOiAiSldUIiwia2lkIiA6ICJ3dE9hV1o2aFJJeUowbGlsYXctcWd4NzlUdm1hX3ZKZlNuMW1WNm5HX0tVIn0.eyJleHAiOjE3MTc0NzEzNTYsImlhdCI6MTcxNzQ2Nzc1NiwiYXV0aF90aW1lIjoxNzE3NDY3NzU1LCJqdGkiOiI1MWZmZjJjZS1hZmRkLTQ4MDItOTNkOS0wMzkwZDUzZmRhNzciLCJpc3MiOiJodHRwczovL3NlcnZpY2VzLnNlbnRpbmVsLWh1Yi5jb20vYXV0aC9yZWFsbXMvbWFpbiIsInN1YiI6IjQwNjU4MGUyLTU3MTctNDg3Yy1hNzg5LWZlMjBmM2M2MDI3NyIsInR5cCI6IkJlYXJlciIsImF6cCI6IjBmNjFkMzg1LTVjOGItNDRmOS1hMTU0LTJhZGY1MWQ1MDE0MSIsIm5vbmNlIjoiYWZhYjAyMTUtYjc4Yi00NjdiLWE3ZTItNDFkNzRkOTVhMzc3Iiwic2Vzc2lvbl9zdGF0ZSI6ImUxN2FlMzJmLTg4ZGMtNGQ4Ny04MTZiLTc2NjVlOTM3NzRiOCIsImFsbG93ZWQtb3JpZ2lucyI6WyJodHRwczovL2FwcHMuc2VudGluZWwtaHViLmNvbSJdLCJzY29wZSI6Im9wZW5pZCBlbWFpbCBwcm9maWxlIiwic2lkIjoiZTE3YWUzMmYtODhkYy00ZDg3LTgxNmItNzY2NWU5Mzc3NGI4IiwiZW1haWxfdmVyaWZpZWQiOnRydWUsIm5hbWUiOiJTaGFybWFpbmUgVGVvIiwicHJlZmVycmVkX3VzZXJuYW1lIjoic2hhcm1haW5lMTAyOEBnbWFpbC5jb20iLCJnaXZlbl9uYW1lIjoiU2hhcm1haW5lIiwiZmFtaWx5X25hbWUiOiJUZW8iLCJlbWFpbCI6InNoYXJtYWluZTEwMjhAZ21haWwuY29tIiwiYWNjb3VudCI6ImY1YmNkODdiLTA0NWUtNDllZS05MTdkLWE4ZmI5MjZlYWNjMiJ9.PnnK4wnQBu_FSNLnE4IAJCOcGoLK3g60y-eNga5649XffGgHn8ewEXpBiRf_Hja-Bg-b7rV96ZuIk3BcNbq6Jv-F-t2RqOMK27iYPvR-rJ8ICseVX6HDZCB6p6X4UZxPMBWl6wgJ-p-3F3LZRqGoFVf8B8fM9P2n4o9t3J4u8S57TaMU6mD0uuYt976kEaWzVKpy5b_sYFuel2wskO2TzsiTt2s4xZ-8LpGyBcE2q3PESiugnpBk-fyzbcAvLSK7cYu00UAh4-ozTh1FE5xHNum39slTeQM9igvjqOOWhrpR8BgyluTS8dL_bNuj4YKD1MBaTanlh2vf28p250O_Uw'"
   ]
  },
  {
   "cell_type": "code",
   "execution_count": 10,
   "metadata": {},
   "outputs": [],
   "source": [
    "import requests\n",
    "\n",
    "response = requests.post('https://services.sentinel-hub.com/api/v1/process',\n",
    "  headers={\"Authorization\" : \"Bearer eyJhbGciOiJSUzI1NiIsInR5cCIgOiAiSldUIiwia2lkIiA6ICJ3dE9hV1o2aFJJeUowbGlsYXctcWd4NzlUdm1hX3ZKZlNuMW1WNm5HX0tVIn0.eyJleHAiOjE3MTc0NzEzNTYsImlhdCI6MTcxNzQ2Nzc1NiwiYXV0aF90aW1lIjoxNzE3NDY3NzU1LCJqdGkiOiI1MWZmZjJjZS1hZmRkLTQ4MDItOTNkOS0wMzkwZDUzZmRhNzciLCJpc3MiOiJodHRwczovL3NlcnZpY2VzLnNlbnRpbmVsLWh1Yi5jb20vYXV0aC9yZWFsbXMvbWFpbiIsInN1YiI6IjQwNjU4MGUyLTU3MTctNDg3Yy1hNzg5LWZlMjBmM2M2MDI3NyIsInR5cCI6IkJlYXJlciIsImF6cCI6IjBmNjFkMzg1LTVjOGItNDRmOS1hMTU0LTJhZGY1MWQ1MDE0MSIsIm5vbmNlIjoiYWZhYjAyMTUtYjc4Yi00NjdiLWE3ZTItNDFkNzRkOTVhMzc3Iiwic2Vzc2lvbl9zdGF0ZSI6ImUxN2FlMzJmLTg4ZGMtNGQ4Ny04MTZiLTc2NjVlOTM3NzRiOCIsImFsbG93ZWQtb3JpZ2lucyI6WyJodHRwczovL2FwcHMuc2VudGluZWwtaHViLmNvbSJdLCJzY29wZSI6Im9wZW5pZCBlbWFpbCBwcm9maWxlIiwic2lkIjoiZTE3YWUzMmYtODhkYy00ZDg3LTgxNmItNzY2NWU5Mzc3NGI4IiwiZW1haWxfdmVyaWZpZWQiOnRydWUsIm5hbWUiOiJTaGFybWFpbmUgVGVvIiwicHJlZmVycmVkX3VzZXJuYW1lIjoic2hhcm1haW5lMTAyOEBnbWFpbC5jb20iLCJnaXZlbl9uYW1lIjoiU2hhcm1haW5lIiwiZmFtaWx5X25hbWUiOiJUZW8iLCJlbWFpbCI6InNoYXJtYWluZTEwMjhAZ21haWwuY29tIiwiYWNjb3VudCI6ImY1YmNkODdiLTA0NWUtNDllZS05MTdkLWE4ZmI5MjZlYWNjMiJ9.PnnK4wnQBu_FSNLnE4IAJCOcGoLK3g60y-eNga5649XffGgHn8ewEXpBiRf_Hja-Bg-b7rV96ZuIk3BcNbq6Jv-F-t2RqOMK27iYPvR-rJ8ICseVX6HDZCB6p6X4UZxPMBWl6wgJ-p-3F3LZRqGoFVf8B8fM9P2n4o9t3J4u8S57TaMU6mD0uuYt976kEaWzVKpy5b_sYFuel2wskO2TzsiTt2s4xZ-8LpGyBcE2q3PESiugnpBk-fyzbcAvLSK7cYu00UAh4-ozTh1FE5xHNum39slTeQM9igvjqOOWhrpR8BgyluTS8dL_bNuj4YKD1MBaTanlh2vf28p250O_Uw\"},\n",
    "  json={\n",
    "    \"input\": {\n",
    "        \"bounds\": {\n",
    "            \"bbox\": [\n",
    "                  103.605657,\n",
    "                  1.203738,\n",
    "                  104.031586,\n",
    "                  1.505778\n",
    "            ]\n",
    "        },\n",
    "        \"data\": [{\n",
    "            \"type\": \"sentinel-2-l1c\",\n",
    "        }]\n",
    "    }, \n",
    "    \"output\":{\n",
    "        \"width\": 576,\n",
    "        \"height\": 576\n",
    "    },\n",
    "    \"evalscript\": \"\"\"\n",
    "    //VERSION=3\n",
    "\n",
    "    function setup() {\n",
    "      return {\n",
    "        input: [\"B02\", \"B03\", \"B04\"],\n",
    "        output: {\n",
    "          bands: 3\n",
    "        }\n",
    "      };\n",
    "    }\n",
    "\n",
    "    function evaluatePixel(\n",
    "      sample,\n",
    "      scenes,\n",
    "      inputMetadata,\n",
    "      customData,\n",
    "      outputMetadata\n",
    "    ) {\n",
    "      return [2.5 * sample.B04, 2.5 * sample.B03, 2.5 * sample.B02];\n",
    "    }\n",
    "    \"\"\"\n",
    "})\n"
   ]
  },
  {
   "cell_type": "code",
   "execution_count": 11,
   "metadata": {},
   "outputs": [],
   "source": [
    "# Saving image to disk\n",
    "with open('01.png','wb') as f:\n",
    "      f.write(response.content)"
   ]
  },
  {
   "cell_type": "code",
   "execution_count": 12,
   "metadata": {},
   "outputs": [
    {
     "data": {
      "image/png": "[encoded data removed]",
      "text/plain": [
       "<IPython.core.display.Image object>"
      ]
     },
     "metadata": {},
     "output_type": "display_data"
    }
   ],
   "source": [
    "from IPython.display import Image, display\n",
    "\n",
    "display(Image(response.content))"
   ]
  },
  {
   "cell_type": "markdown",
   "metadata": {},
   "source": [
    "### Downloading True Colour Time series data (Year 2019)"
   ]
  },
  {
   "cell_type": "code",
   "execution_count": 13,
   "metadata": {},
   "outputs": [],
   "source": [
    "# Helper to evaluate true colour based off bands \n",
    "evalscript_true_color = \"\"\"\n",
    "    //VERSION=3\n",
    "\n",
    "    function setup() {\n",
    "        return {\n",
    "            input: [{\n",
    "                bands: [\"B02\", \"B03\", \"B04\"]\n",
    "            }],\n",
    "            output: {\n",
    "                bands: 3\n",
    "            }\n",
    "        };\n",
    "    }\n",
    "\n",
    "    function evaluatePixel(sample) {\n",
    "        let gain = 2.5;\n",
    "        return [sample.B04 * gain, sample.B03 * gain, sample.B02 * gain];\n",
    "    }\n",
    "\"\"\""
   ]
  },
  {
   "cell_type": "code",
   "execution_count": 3,
   "metadata": {},
   "outputs": [],
   "source": [
    "evalscript_true_color = \"\"\"\n",
    "//VERSION=3\n",
    "function setup(){\n",
    "  return{\n",
    "    input: [\"B02\", \"B03\", \"B04\", \"dataMask\"],\n",
    "    output: {bands: 4, sampleType: \"UINT8\"}  // Specify UINT8 for 8-bit output\n",
    "  }\n",
    "}\n",
    "\n",
    "function evaluatePixel(sample){\n",
    "  // Set gain for visualisation\n",
    "  let gain = 2.5;\n",
    "\n",
    "  // Apply gain and clamp values to [0, 1] range\n",
    "  let r = Math.min(1, sample.B04 * gain);\n",
    "  let g = Math.min(1, sample.B03 * gain);\n",
    "  let b = Math.min(1, sample.B02 * gain);\n",
    "\n",
    "  // Scale to 0-255 range for 8-bit output\n",
    "  return [\n",
    "    Math.round(r * 255),\n",
    "    Math.round(g * 255),\n",
    "    Math.round(b * 255),\n",
    "    Math.round(sample.dataMask * 255)\n",
    "  ];\n",
    "}\n",
    "\"\"\""
   ]
  },
  {
   "cell_type": "code",
   "execution_count": 4,
   "metadata": {},
   "outputs": [
    {
     "name": "stdout",
     "output_type": "stream",
     "text": [
      "Image shape at 10 m resolution: (978, 895) pixels\n"
     ]
    }
   ],
   "source": [
    "# Bounding box (BBox) of Singapore \n",
    "resolution = 10\n",
    "sg_coords_wgs84 = (103.726973,\n",
    "  1.305338,\n",
    "  103.814789,\n",
    "  1.386339)\n",
    "sg_bbox = BBox(bbox=sg_coords_wgs84, crs=CRS.WGS84)\n",
    "sg_size = bbox_to_dimensions(sg_bbox, resolution=resolution)\n",
    "print(f\"Image shape at {resolution} m resolution: {sg_size} pixels\")"
   ]
  },
  {
   "cell_type": "code",
   "execution_count": 5,
   "metadata": {},
   "outputs": [
    {
     "name": "stdout",
     "output_type": "stream",
     "text": [
      "Monthly time windows:\n",
      "\n",
      "('2023-01-01', '2023-01-31')\n",
      "('2023-01-31', '2023-03-02')\n",
      "('2023-03-02', '2023-04-02')\n",
      "('2023-04-02', '2023-05-02')\n",
      "('2023-05-02', '2023-06-01')\n",
      "('2023-06-01', '2023-07-02')\n",
      "('2023-07-02', '2023-08-01')\n",
      "('2023-08-01', '2023-08-31')\n",
      "('2023-08-31', '2023-10-01')\n",
      "('2023-10-01', '2023-10-31')\n",
      "('2023-10-31', '2023-11-30')\n",
      "('2023-11-30', '2023-12-31')\n",
      "('2023-12-31', '2024-01-30')\n",
      "('2024-01-30', '2024-02-29')\n",
      "('2024-02-29', '2024-03-31')\n",
      "('2024-03-31', '2024-04-30')\n"
     ]
    }
   ],
   "source": [
    "# Create time interval for year 2019\n",
    "start = datetime.datetime(2023, 1, 1)\n",
    "end = datetime.datetime(2024, 5, 31)\n",
    "n_chunks = 17\n",
    "tdelta = (end - start) / n_chunks\n",
    "edges = [(start + i * tdelta).date().isoformat() for i in range(n_chunks)]\n",
    "slots = [(edges[i], edges[i + 1]) for i in range(len(edges) - 1)]\n",
    "\n",
    "print(\"Monthly time windows:\\n\")\n",
    "for slot in slots:\n",
    "    print(slot)"
   ]
  },
  {
   "cell_type": "code",
   "execution_count": 6,
   "metadata": {},
   "outputs": [],
   "source": [
    "# True Colour Image (TCI) image request\n",
    "def get_true_color_request(time_interval):\n",
    "    return SentinelHubRequest(\n",
    "        data_folder='sentinel2\\sentinel_2023', # Save directory \n",
    "        evalscript=evalscript_true_color,\n",
    "        input_data=[\n",
    "            SentinelHubRequest.input_data(\n",
    "                data_collection=DataCollection.SENTINEL2_L1C,\n",
    "                time_interval=time_interval,\n",
    "                mosaicking_order=MosaickingOrder.LEAST_CC,\n",
    "            )\n",
    "        ],\n",
    "        responses=[SentinelHubRequest.output_response(\"default\", MimeType.PNG)],\n",
    "        bbox=sg_bbox,\n",
    "        size=sg_size,\n",
    "        config=config,\n",
    "    )"
   ]
  },
  {
   "cell_type": "code",
   "execution_count": 7,
   "metadata": {},
   "outputs": [],
   "source": [
    "# create a list of requests\n",
    "list_of_requests = [get_true_color_request(slot) for slot in slots]\n",
    "list_of_requests = [request.download_list[0] for request in list_of_requests]\n",
    "# download data with multiple threads\n",
    "data = SentinelHubDownloadClient(config=config).download(list_of_requests, max_threads=5)"
   ]
  },
  {
   "cell_type": "markdown",
   "metadata": {},
   "source": [
    "### Renaming images and folder to their 'from date'"
   ]
  },
  {
   "cell_type": "code",
   "execution_count": 8,
   "metadata": {},
   "outputs": [],
   "source": [
    "import json\n",
    "\n",
    "def get_request_date(req_file):\n",
    "    with open(req_file, 'r') as req:\n",
    "        request = json.load(req)\n",
    "        date = request[\"request\"][\"payload\"][\"input\"][\"data\"][0][\"dataFilter\"][\"timeRange\"]['from'].split('T')[0]\n",
    "        date = date.replace('-',\"\")\n",
    "        return date"
   ]
  },
  {
   "cell_type": "code",
   "execution_count": 9,
   "metadata": {},
   "outputs": [],
   "source": [
    "directory = r\"C:\\Users\\inn0l\\Desktop\\Sharmaine\\satlas-super-resolution\\sentinel2\\sentinel_2023\"\n",
    "\n",
    "dates = []\n",
    "\n",
    "# Get list of dates and rename images\n",
    "for dir in os.listdir(directory):\n",
    "    path = os.path.join(directory, dir)\n",
    "    os.chdir(path)\n",
    "    name = get_request_date(\"request.json\")\n",
    "    dates.append(name)\n",
    "    os.rename('response.png', f'''{name}.png''')\n",
    "    "
   ]
  },
  {
   "cell_type": "code",
   "execution_count": 10,
   "metadata": {},
   "outputs": [],
   "source": [
    "os.chdir(directory)\n",
    "# Rename folder to date\n",
    "for i, dir in enumerate(os.listdir(directory)):\n",
    "    path = os.path.join(directory, dir)\n",
    "    os.rename(path, dates[i])"
   ]
  },
  {
   "cell_type": "markdown",
   "metadata": {},
   "source": [
    "### Splitting each image to 32x32 px tiles "
   ]
  },
  {
   "cell_type": "code",
   "execution_count": 11,
   "metadata": {},
   "outputs": [],
   "source": [
    "from PIL import Image\n",
    "from itertools import product"
   ]
  },
  {
   "cell_type": "code",
   "execution_count": 28,
   "metadata": {},
   "outputs": [],
   "source": [
    "# Source: https://stackoverflow.com/questions/5953373/how-to-split-image-into-multiple-pieces-in-python\n",
    "def tile(filename, dir_in, dir_out, d=32):\n",
    "    name, ext = os.path.splitext(filename)\n",
    "    img = Image.open(os.path.join(dir_in, filename))\n",
    "    w, h = img.size\n",
    "    \n",
    "    grid = product(range(0, h-h%d, d), range(0, w-w%d, d))\n",
    "    for i, j in grid:\n",
    "        box = (j, i, j+d, i+d)\n",
    "        out = os.path.join(dir_out, f'{name}_{i}_{j}{ext}')\n",
    "        img.crop(box).save(out)"
   ]
  },
  {
   "cell_type": "code",
   "execution_count": 13,
   "metadata": {},
   "outputs": [],
   "source": [
    "# Tile images to 32x32 px images\n",
    "# os.mkdir('split')\n",
    "\n",
    "for dir in os.listdir(directory):\n",
    "    path = os.path.join(directory, dir)\n",
    "    dir_out = os.path.join(directory, 'split', dir)\n",
    "    if not os.path.exists(dir_out):\n",
    "        os.makedirs(dir_out)\n",
    "    tile(f'''{dir}.png''', path, dir_out)"
   ]
  },
  {
   "cell_type": "markdown",
   "metadata": {},
   "source": [
    "### Stitching images togeter to form time series data "
   ]
  },
  {
   "cell_type": "code",
   "execution_count": 14,
   "metadata": {},
   "outputs": [],
   "source": [
    "dir_in = r\"C:\\Users\\inn0l\\Desktop\\Sharmaine\\satlas-super-resolution\\sentinel2\\sentinel_2023\\split\" \n",
    "dir_out = r\"C:\\Users\\inn0l\\Desktop\\Sharmaine\\satlas-super-resolution\\sentinel2\\sentinel_2023\\stitched\""
   ]
  },
  {
   "cell_type": "code",
   "execution_count": 17,
   "metadata": {},
   "outputs": [],
   "source": [
    "import os\n",
    "from PIL import Image\n",
    "from collections import defaultdict\n",
    "\n",
    "# Store file paths for time series tiles\n",
    "suffix_dict = defaultdict(list)\n",
    "\n",
    "for dirpath, _, filenames in os.walk(dir_in):\n",
    "    for filename in filenames:\n",
    "        if filename.lower().endswith('png'):\n",
    "            suffix = filename[9:-4]\n",
    "            suffix_dict[suffix].append(os.path.join(dirpath, filename))"
   ]
  },
  {
   "cell_type": "code",
   "execution_count": 15,
   "metadata": {},
   "outputs": [],
   "source": [
    "# Merge images \n",
    "def merge_images(image_paths, output_path):\n",
    "    images = [Image.open(img_path) for img_path in image_paths]\n",
    "    \n",
    "    # Since all image of size 32x32px\n",
    "    widths, heights = zip(*(img.size for img in images))\n",
    "    \n",
    "    max_width = max(widths) \n",
    "    total_height = sum(heights)\n",
    "    \n",
    "    # Create a new blank image with the total width and max height\n",
    "    merged_image = Image.new('RGB', (max_width, total_height))\n",
    "    \n",
    "    # Paste images one by one into the new image\n",
    "    y_offset = 0\n",
    "    for img in images:\n",
    "        merged_image.paste(img, (0, y_offset))\n",
    "        y_offset += img.height\n",
    "\n",
    "    merged_image.save(output_path)"
   ]
  },
  {
   "cell_type": "code",
   "execution_count": null,
   "metadata": {},
   "outputs": [],
   "source": [
    "# Merge images \n",
    "for suffix, image_paths in suffix_dict.items():\n",
    "    out_dir = os.path.join(dir_out, suffix)\n",
    "    if not os.path.exists(out_dir):\n",
    "        os.makedirs(out_dir)\n",
    "    \n",
    "    output_path = os.path.join(out_dir, f\"{suffix}.png\")\n",
    "    merge_images(image_paths, output_path)\n",
    "    print(f\"Merged images with suffix {suffix} into {output_path}\")"
   ]
  },
  {
   "cell_type": "markdown",
   "metadata": {},
   "source": [
    "### Split High res data "
   ]
  },
  {
   "cell_type": "code",
   "execution_count": 32,
   "metadata": {},
   "outputs": [],
   "source": [
    "# Source: https://stackoverflow.com/questions/5953373/how-to-split-image-into-multiple-pieces-in-python\n",
    "def tile_high_res(filename, dir_in, dir_out, d=32):\n",
    "    name, ext = os.path.splitext(filename)\n",
    "    img = Image.open(os.path.join(dir_in, filename))\n",
    "    w, h = img.size\n",
    "    \n",
    "    grid = product(range(0, h-h%d, d), range(0, w-w%d, d))\n",
    "    for i, j in grid:\n",
    "        box = (j, i, j+d, i+d)\n",
    "        # out = os.path.join(dir_out, f'{name}_{i}_{j}{ext}')\n",
    "        dir_out_path = os.path.join(dir_out, f'{i}_{j}')\n",
    "        if not os.path.exists(dir_out_path):\n",
    "            os.makedirs(dir_out_path)\n",
    "        out = os.path.join(dir_out_path, f'{name}_{i}_{j}{ext}')\n",
    "        img.crop(box).save(out)"
   ]
  },
  {
   "cell_type": "code",
   "execution_count": 33,
   "metadata": {},
   "outputs": [],
   "source": [
    "dir_in = r\"C:\\Users\\inn0l\\Desktop\\Sharmaine\"\n",
    "dir_out = r\"C:\\Users\\inn0l\\Desktop\\Sharmaine\\satlas-super-resolution\\high_res\"\n",
    "tile_high_res(\"test.png\", dir_in, dir_out, d=128)"
   ]
  }
 ],
 "metadata": {
  "kernelspec": {
   "display_name": "Python 3",
   "language": "python",
   "name": "python3"
  },
  "language_info": {
   "codemirror_mode": {
    "name": "ipython",
    "version": 3
   },
   "file_extension": ".py",
   "mimetype": "text/x-python",
   "name": "python",
   "nbconvert_exporter": "python",
   "pygments_lexer": "ipython3",
   "version": "3.9.0"
  }
 },
 "nbformat": 4,
 "nbformat_minor": 2
}
